{
 "cells": [
  {
   "cell_type": "code",
   "execution_count": 10,
   "metadata": {},
   "outputs": [
    {
     "name": "stdout",
     "output_type": "stream",
     "text": [
      "2436.4509152962783 ampere / centimeter ** 2\n",
      "17.681672356721563 / centimeter / ohm\n",
      "137.79527559055117 volt / centimeter\n"
     ]
    }
   ],
   "source": [
    "#19-13\n",
    "\n",
    "import pint\n",
    "import math\n",
    "import numpy as np\n",
    "from scipy import special\n",
    "units = pint.UnitRegistry()\n",
    "\n",
    "I = 400 * units.A\n",
    "V = 35 * units.V\n",
    "L_arc = 0.1 * units.inches\n",
    "D_arc = 0.18 * units.inches\n",
    "A = math.pi/4 * D_arc**2\n",
    "\n",
    "J = I/A\n",
    "sigma = L_arc/(V/I * A)\n",
    "E = J/sigma\n",
    "\n",
    "print(J.to('A/cm**2'))\n",
    "print(sigma.to('1/ohm/cm'))\n",
    "print(E.to('V/cm'))"
   ]
  },
  {
   "cell_type": "code",
   "execution_count": 24,
   "metadata": {},
   "outputs": [
    {
     "name": "stdout",
     "output_type": "stream",
     "text": [
      "6.578947368421053e+18 / centimeter ** 3\n",
      "0.0001489155716359992 dimensionless\n"
     ]
    }
   ],
   "source": [
    "#19-31\n",
    "\n",
    "import pint\n",
    "import math\n",
    "import numpy as np\n",
    "from scipy import special\n",
    "units = pint.UnitRegistry()\n",
    "\n",
    "sigma = 2000 / units.ohm/units.cm\n",
    "mu = 1900 * units.cm**2 /units.V/units.s\n",
    "q = 1.6e-19 * units.C\n",
    "a_0 = 5.6575e-8 * units.cm\n",
    "\n",
    "N_a = sigma/q/mu\n",
    "\n",
    "x = N_a * a_0**3/8\n",
    "print (N_a.to('1/cm**3'))\n",
    "print(x.to('dimensionless'))\n"
   ]
  },
  {
   "cell_type": "code",
   "execution_count": 37,
   "metadata": {},
   "outputs": [
    {
     "name": "stdout",
     "output_type": "stream",
     "text": [
      "5.894450744923759 / centimeter / ohm\n",
      "21.577756937102404 / centimeter / ohm\n",
      "27.472207682026163 / centimeter / ohm\n"
     ]
    }
   ],
   "source": [
    "#19-32\n",
    "\n",
    "import pint\n",
    "import math\n",
    "import numpy as np\n",
    "from scipy import special\n",
    "units = pint.UnitRegistry()\n",
    "units.load_definitions('unitsDef.txt') \n",
    "\n",
    "\n",
    "mu_n = 480 * units.cm**2 /units.V/units.s #from table 19-5\n",
    "mu_p = 1350 * units.cm**2 /units.V/units.s #from table 19-5\n",
    "q = 1.6e-19 * units.C #charge of an electron\n",
    "E_g = 1.11 * units.eV\n",
    "T = (600 + 273) * units.K\n",
    "k_b = 1.38064852e-23 * units.J /units.K #boltzmann constant\n",
    "n_0 = 3.22e19 * 1/(units.cm**3) #given to us by prof\n",
    "\n",
    "sigma_intrinsic = n_0 * q*(mu_n + mu_p)*np.exp(-E_g/(2*k_b*T))\n",
    "print(sigma_intrinsic.to(\"1/cm/ohm\"))\n",
    "\n",
    "a_0 = 5.4307e-8 * units.cm #lattice parameter of silicon\n",
    "atoms_unitcell = 8 #* units.Si_Atoms\n",
    "wt_percent = 0.0002/100 #* units.As_Atoms/units.Si_Atoms\n",
    "N_a = wt_percent * atoms_unitcell / (a_0**3)\n",
    "sigma_extrensic = N_a * q * mu_p\n",
    "print (sigma_extrensic.to(\"1/cm/ohm\"))\n",
    "\n",
    "sigma_total = sigma_intrinsic + sigma_extrensic\n",
    "print(sigma_total.to(\"1/ohm/cm\"))"
   ]
  },
  {
   "cell_type": "code",
   "execution_count": null,
   "metadata": {},
   "outputs": [],
   "source": []
  }
 ],
 "metadata": {
  "kernelspec": {
   "display_name": "Python 3",
   "language": "python",
   "name": "python3"
  },
  "language_info": {
   "codemirror_mode": {
    "name": "ipython",
    "version": 3
   },
   "file_extension": ".py",
   "mimetype": "text/x-python",
   "name": "python",
   "nbconvert_exporter": "python",
   "pygments_lexer": "ipython3",
   "version": "3.6.5"
  }
 },
 "nbformat": 4,
 "nbformat_minor": 2
}
