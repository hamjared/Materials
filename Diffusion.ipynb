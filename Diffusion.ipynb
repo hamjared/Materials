{
 "cells": [
  {
   "cell_type": "code",
   "execution_count": 22,
   "metadata": {},
   "outputs": [
    {
     "name": "stdout",
     "output_type": "stream",
     "text": [
      "0.9540771109684268\n"
     ]
    }
   ],
   "source": [
    "#for problem 5-61 in materials textbook\n",
    "#calculates the concentration at a location x after time t \n",
    "\n",
    "import pint\n",
    "import numpy as np\n",
    "from scipy import special\n",
    "units = pint.UnitRegistry()\n",
    "\n",
    "D_not = 0.23 * units.cm**2/units.s\n",
    "Q = 32900 * units.cal/units.mol\n",
    "R = 1.987 * units.cal/units.mol/units.K\n",
    "T = 1185 * units.K\n",
    "\n",
    "C_surface = 1.2\n",
    "C_not = 0.05\n",
    "\n",
    "x = 0.05*units.cm\n",
    "D = D_not * np.exp(-Q/(R*T))\n",
    "t = 24 * units.hr\n",
    "\n",
    "C = special.erfc((x/(2*np.sqrt(D*t))).to('dimensionless'))*(C_surface - C_not) + C_not\n",
    "print (C)"
   ]
  },
  {
   "cell_type": "code",
   "execution_count": null,
   "metadata": {},
   "outputs": [],
   "source": [
    "\n"
   ]
  }
 ],
 "metadata": {
  "kernelspec": {
   "display_name": "Python 3",
   "language": "python",
   "name": "python3"
  },
  "language_info": {
   "codemirror_mode": {
    "name": "ipython",
    "version": 3
   },
   "file_extension": ".py",
   "mimetype": "text/x-python",
   "name": "python",
   "nbconvert_exporter": "python",
   "pygments_lexer": "ipython3",
   "version": "3.6.5"
  }
 },
 "nbformat": 4,
 "nbformat_minor": 2
}
